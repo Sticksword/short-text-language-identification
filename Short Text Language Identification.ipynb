{
 "cells": [
  {
   "cell_type": "markdown",
   "metadata": {},
   "source": [
    "# Short Text Language Identification\n",
    "## Given a string of text, return the language it's written in.\n",
    "Helpful pre-reads:\n",
    "* https://www.slideshare.net/shuyo/language-detection-library-for-java\n",
    "* https://towardsdatascience.com/deep-neural-network-language-identification-ae1c158f6a7d\n",
    "* https://towardsdatascience.com/animated-rnn-lstm-and-gru-ef124d06cf45"
   ]
  },
  {
   "cell_type": "code",
   "execution_count": 1,
   "metadata": {},
   "outputs": [],
   "source": [
    "import os\n",
    "import re\n",
    "import datetime\n",
    "from typing import Any\n",
    "\n",
    "import pandas as pd\n",
    "import numpy as np\n",
    "\n",
    "from sklearn.feature_extraction.text import CountVectorizer, TfidfVectorizer\n",
    "from sklearn import model_selection\n",
    "\n",
    "from sklearn.linear_model import LogisticRegression\n",
    "from sklearn.svm import SVC\n",
    "from sklearn.ensemble import RandomForestClassifier\n",
    "from sklearn.naive_bayes import GaussianNB\n",
    "from xgboost import XGBClassifier\n",
    "\n",
    "from sklearn.pipeline import Pipeline\n",
    "from sklearn.metrics import precision_score, recall_score, classification_report, accuracy_score, confusion_matrix\n",
    "\n",
    "import matplotlib.pyplot as plt\n",
    "import seaborn as sns"
   ]
  },
  {
   "cell_type": "markdown",
   "metadata": {},
   "source": [
    "### Initial data setup"
   ]
  },
  {
   "cell_type": "code",
   "execution_count": 2,
   "metadata": {},
   "outputs": [
    {
     "data": {
      "text/plain": [
       "(300000, 2)"
      ]
     },
     "execution_count": 2,
     "metadata": {},
     "output_type": "execute_result"
    }
   ],
   "source": [
    "data = pd.read_csv('sentences.csv',\n",
    "                    sep='\\t', \n",
    "                    encoding='utf8', \n",
    "                    index_col=0,\n",
    "                    names=['lang', 'text'])\n",
    "\n",
    "# filter by text length\n",
    "len_cond = [True if 20 <= len(s) <= 200 else False for s in data['text']]\n",
    "data = data[len_cond]\n",
    "\n",
    "# filter by text language\n",
    "lang = ['deu', 'eng', 'fra', 'ita', 'por', 'spa']\n",
    "data = data[data['lang'].isin(lang)]\n",
    "\n",
    "# select 50000 rows for each language\n",
    "data_trimmed = pd.DataFrame(columns=['lang', 'text'])\n",
    "\n",
    "for l in lang:\n",
    "    lang_trim = data[data['lang'] == l].sample(50000, random_state=42)\n",
    "    data_trimmed = data_trimmed.append(lang_trim)\n",
    "\n",
    "data_trimmed.shape"
   ]
  },
  {
   "cell_type": "code",
   "execution_count": 3,
   "metadata": {},
   "outputs": [],
   "source": [
    "X = np.array(data_trimmed['text'])\n",
    "y = np.array(data_trimmed['lang'])\n",
    "\n",
    "X_train, X_test, y_train, y_test = model_selection.train_test_split(X, y, test_size=0.2, random_state=42)"
   ]
  },
  {
   "cell_type": "markdown",
   "metadata": {},
   "source": [
    "## How do we represent a sentence?\n",
    "\n",
    "Assumptions: all text is in Unicode.\n",
    "\n",
    "We will first consider the \"bag of words\" approach to represent a sentence. The count of each word in a bag of words represents one feature.\n",
    "\n",
    "No stemming or stop word removal is done as that could lead to information loss regarding the text's language.\n",
    "\n",
    "In addition, we can use trigrams (3 letter combinations) rather than full words for our approach. This aims to capture the character to character probabilities as opposed to the word to word probabilities."
   ]
  },
  {
   "cell_type": "code",
   "execution_count": 161,
   "metadata": {},
   "outputs": [],
   "source": [
    "def get_ngrams(corpus, n_gram, n_feat=200):\n",
    "    \"\"\"\n",
    "    Returns a list of the N most common character ngrams from a list of sentences\n",
    "    params\n",
    "    ------------\n",
    "        corpus: list of strings\n",
    "        n_gram: number that represents the n in n-gram\n",
    "        n_feat: integer\n",
    "    \"\"\"\n",
    "    \n",
    "    # fit the n-gram model\n",
    "    vectorizer = CountVectorizer(analyzer='char',\n",
    "                                 ngram_range=(n_gram, n_gram),\n",
    "                                 max_features=n_feat)\n",
    "    \n",
    "    X = vectorizer.fit_transform(corpus)\n",
    "    \n",
    "    # get model feature names\n",
    "    return vectorizer.get_feature_names()"
   ]
  },
  {
   "cell_type": "markdown",
   "metadata": {},
   "source": [
    "### Generate a vocabulary from all the languages\n",
    "\n",
    "In order to convert a text to a bag of trigrams, we need to understand what are all possible trigrams for a given language.\n",
    "\n",
    "Thus we will process all the text for a given language and obtain the top most frequent trigrams from each language. We will combine all of these trigrams into one giant bag, dubbed our vocabulary.\n",
    "\n",
    "Then when a sentence comes in during training & eval, we will convert it to a count dictionary. Each key in our dictionary is a trigram from our vocabulary. Each key, count pairing represents a feature."
   ]
  },
  {
   "cell_type": "code",
   "execution_count": 5,
   "metadata": {},
   "outputs": [],
   "source": [
    "features = {}\n",
    "features_set = set()\n",
    "training_corpus = pd.concat([pd.DataFrame(X_train), pd.DataFrame(y_train)], axis=1)\n",
    "training_corpus.columns = ['text', 'lang']\n",
    "\n",
    "for l in lang:\n",
    "    # get corpus filtered by language\n",
    "    corpus = training_corpus[training_corpus['lang']==l]['text']\n",
    "    \n",
    "    # get 200 most frequent trigrams\n",
    "    trigrams = get_ngrams(corpus, 3)\n",
    "    \n",
    "    # add to dict and set\n",
    "    features[l] = trigrams \n",
    "    features_set.update(trigrams)\n",
    "\n",
    "    \n",
    "# create vocabulary list using feature set\n",
    "vocab = dict()\n",
    "for i, f in enumerate(features_set):\n",
    "    vocab[f] = i"
   ]
  },
  {
   "cell_type": "code",
   "execution_count": 6,
   "metadata": {},
   "outputs": [
    {
     "name": "stdout",
     "output_type": "stream",
     "text": [
      "(240000, 666)\n",
      "666\n"
     ]
    },
    {
     "data": {
      "text/plain": [
       "abe    5\n",
       "ene    3\n",
       " pi    5\n",
       "ary    2\n",
       "was    6\n",
       "      ..\n",
       "el     7\n",
       "uir    2\n",
       "ith    6\n",
       "n t    5\n",
       " mo    5\n",
       "Length: 666, dtype: int64"
      ]
     },
     "execution_count": 6,
     "metadata": {},
     "output_type": "execute_result"
    }
   ],
   "source": [
    "# train count vectoriser using vocabulary\n",
    "vectorizer = CountVectorizer(analyzer='char',\n",
    "                             ngram_range=(3, 3),\n",
    "                             vocabulary=vocab)\n",
    "\n",
    "# create feature matrix from training set  \n",
    "X_train_feat_vec = vectorizer.fit_transform(X_train)\n",
    "feature_names = vectorizer.get_feature_names()\n",
    "print(X_train_feat_vec.shape)\n",
    "print(len(feature_names))\n",
    "\n",
    "train_feat = pd.DataFrame(data=X_train_feat_vec.toarray(), columns=feature_names)\n",
    "train_feat.max()"
   ]
  },
  {
   "cell_type": "markdown",
   "metadata": {},
   "source": [
    "Each sentence will have 666 features. We will have 240,000 training instances and 60,000 test cases."
   ]
  },
  {
   "cell_type": "code",
   "execution_count": 7,
   "metadata": {},
   "outputs": [
    {
     "name": "stdout",
     "output_type": "stream",
     "text": [
      "(60000, 666)\n"
     ]
    }
   ],
   "source": [
    "X_test_feat_vec = vectorizer.fit_transform(X_test)\n",
    "feature_names = vectorizer.get_feature_names()\n",
    "print(X_test_feat_vec.shape)\n",
    "\n",
    "test_feat = pd.DataFrame(data=X_test_feat_vec.toarray(), columns=feature_names)"
   ]
  },
  {
   "cell_type": "markdown",
   "metadata": {},
   "source": [
    "### Logistic Regression Baseline"
   ]
  },
  {
   "cell_type": "code",
   "execution_count": 8,
   "metadata": {},
   "outputs": [
    {
     "data": {
      "text/plain": [
       "0.985325"
      ]
     },
     "execution_count": 8,
     "metadata": {},
     "output_type": "execute_result"
    }
   ],
   "source": [
    "log_clf = LogisticRegression(random_state=42,\n",
    "                             multi_class='multinomial',\n",
    "                             solver='newton-cg').fit(train_feat, y_train)\n",
    "score = model_selection.cross_val_score(log_clf, train_feat, y_train, cv=3)\n",
    "score.mean()"
   ]
  },
  {
   "cell_type": "code",
   "execution_count": 9,
   "metadata": {},
   "outputs": [
    {
     "data": {
      "text/plain": [
       "0.9867833333333333"
      ]
     },
     "execution_count": 9,
     "metadata": {},
     "output_type": "execute_result"
    }
   ],
   "source": [
    "log_clf.score(test_feat, y_test)"
   ]
  },
  {
   "cell_type": "markdown",
   "metadata": {},
   "source": [
    "### Deep Learning Alternative\n",
    "\n",
    "Our features stay the same; we are still using the bag of words approach. We will be feeding 666 features per training instance into the first layer of our neural network.\n",
    "\n",
    "We will need to encode the output though so we will use the `LabelEncoder` class from `sklearn`."
   ]
  },
  {
   "cell_type": "code",
   "execution_count": 10,
   "metadata": {},
   "outputs": [],
   "source": [
    "from sklearn.preprocessing import LabelEncoder\n",
    "from tensorflow.keras.utils import to_categorical\n",
    "\n",
    "# fit encoder\n",
    "encoder = LabelEncoder()\n",
    "encoder.fit(lang)\n",
    "\n",
    "def encode(y):\n",
    "    \"\"\"\n",
    "    Returns a list of one hot encodings\n",
    "    Params\n",
    "    ---------\n",
    "        y: list of language labels\n",
    "    \"\"\"\n",
    "    \n",
    "    y_encoded = encoder.transform(y)\n",
    "    y_dummy = to_categorical(y_encoded)\n",
    "    \n",
    "    return y_dummy"
   ]
  },
  {
   "cell_type": "code",
   "execution_count": 11,
   "metadata": {},
   "outputs": [],
   "source": [
    "%load_ext tensorboard"
   ]
  },
  {
   "cell_type": "code",
   "execution_count": 134,
   "metadata": {},
   "outputs": [
    {
     "name": "stdout",
     "output_type": "stream",
     "text": [
      "Model: \"sequential_18\"\n",
      "_________________________________________________________________\n",
      "Layer (type)                 Output Shape              Param #   \n",
      "=================================================================\n",
      "dense_44 (Dense)             (None, 500)               333500    \n",
      "_________________________________________________________________\n",
      "dense_45 (Dense)             (None, 500)               250500    \n",
      "_________________________________________________________________\n",
      "dense_46 (Dense)             (None, 250)               125250    \n",
      "_________________________________________________________________\n",
      "dense_47 (Dense)             (None, 6)                 1506      \n",
      "=================================================================\n",
      "Total params: 710,756\n",
      "Trainable params: 710,756\n",
      "Non-trainable params: 0\n",
      "_________________________________________________________________\n"
     ]
    }
   ],
   "source": [
    "from tensorflow.keras.models import Sequential\n",
    "from tensorflow.keras.layers import Dense, LSTM, GlobalMaxPooling1D, Bidirectional, GRU, Dropout\n",
    "from tensorflow.keras.callbacks import TensorBoard, ModelCheckpoint, EarlyStopping\n",
    "\n",
    "# get training data\n",
    "x = train_feat\n",
    "y = encode(y_train)\n",
    "\n",
    "# define model\n",
    "model = Sequential()\n",
    "model.add(Dense(500, input_dim=len(vocab), activation='relu'))\n",
    "model.add(Dense(500, activation='relu'))\n",
    "model.add(Dense(250, activation='relu'))\n",
    "model.add(Dense(6, activation='softmax'))\n",
    "model.compile(loss='categorical_crossentropy', optimizer='adam', metrics=['acc'])\n",
    "\n",
    "mc = ModelCheckpoint('best_model.h5', monitor='acc', mode='max', save_best_only=True, verbose=1)\n",
    "es = EarlyStopping(monitor='loss', mode='min', verbose=1, patience=3)\n",
    "\n",
    "log_dir = \"logs/fit/\" + datetime.datetime.now().strftime(\"%Y%m%d-%H%M%S\")\n",
    "tensorboard_callback = TensorBoard(log_dir=log_dir, histogram_freq=1)\n",
    "\n",
    "model.summary()"
   ]
  },
  {
   "cell_type": "code",
   "execution_count": null,
   "metadata": {},
   "outputs": [],
   "source": [
    "# train model\n",
    "model.fit(x, y, epochs=4, batch_size=100, callbacks=[mc, es, tensorboard_callback])"
   ]
  },
  {
   "cell_type": "code",
   "execution_count": 13,
   "metadata": {},
   "outputs": [
    {
     "name": "stdout",
     "output_type": "stream",
     "text": [
      "600/600 [==============================] - 1s 2ms/step - loss: 0.0372 - acc: 0.9892A: 0s - loss: 0.0\n"
     ]
    },
    {
     "data": {
      "text/plain": [
       "0.9891999959945679"
      ]
     },
     "execution_count": 13,
     "metadata": {},
     "output_type": "execute_result"
    }
   ],
   "source": [
    "from tensorflow.keras.models import load_model\n",
    "model = load_model('best_model.h5')\n",
    "\n",
    "# evaluation\n",
    "_, val_acc = model.evaluate(test_feat, encode(y_test), batch_size=100)\n",
    "val_acc"
   ]
  },
  {
   "cell_type": "markdown",
   "metadata": {},
   "source": [
    "Our deep neural network approach works slightly better than our baseline, but that is fine because we are already at 98% accuracy."
   ]
  },
  {
   "cell_type": "code",
   "execution_count": 14,
   "metadata": {},
   "outputs": [
    {
     "name": "stdout",
     "output_type": "stream",
     "text": [
      "0.9892\n"
     ]
    },
    {
     "data": {
      "text/plain": [
       "Text(61.5, 0.5, 'Actual')"
      ]
     },
     "execution_count": 14,
     "metadata": {},
     "output_type": "execute_result"
    },
    {
     "data": {
      "image/png": "[encoded data removed]",
      "text/plain": [
       "<Figure size 720x720 with 1 Axes>"
      ]
     },
     "metadata": {},
     "output_type": "display_data"
    }
   ],
   "source": [
    "# get predictions on test set\n",
    "# labels = model.predict_classes(test_feat) # deprecated\n",
    "labels = np.argmax(model.predict(test_feat), axis=-1)\n",
    "predictions = encoder.inverse_transform(labels)\n",
    "\n",
    "# accuracy on test set\n",
    "accuracy = accuracy_score(y_test, predictions)\n",
    "print(accuracy)\n",
    "\n",
    "# create confusion matrix\n",
    "conf_matrix = confusion_matrix(y_test, predictions)\n",
    "conf_matrix_df = pd.DataFrame(conf_matrix, columns=lang, index=lang)\n",
    "\n",
    "# plot confusion matrix heatmap\n",
    "plt.figure(figsize=(10, 10), facecolor='w', edgecolor='k')\n",
    "sns.set(font_scale=1.5)\n",
    "sns.heatmap(conf_matrix_df, cmap='coolwarm', annot=True, fmt='.5g', cbar=False)\n",
    "plt.xlabel('Predicted', fontsize=22)\n",
    "plt.ylabel('Actual', fontsize=22)"
   ]
  },
  {
   "cell_type": "markdown",
   "metadata": {},
   "source": [
    "Looks about right, Portuguese is probably most similar to Spanish so our model got confused."
   ]
  },
  {
   "cell_type": "markdown",
   "metadata": {},
   "source": [
    "## Deep learning alternative - LSTMs (experimental)\n",
    "This time we will focus on capturing the sequential nature of a sentence. We will be using the `LSTM` layer in addition to the traditional `Dense` layer. The LSTM layer is built from LSTM nodes in a neural network. Each LSTM node represents a recurrent neural network node. The general gist is that we can capture sequential information by plugging the output of an LSTM node back into itself. The input to the node is each trigram, in sequence."
   ]
  },
  {
   "cell_type": "markdown",
   "metadata": {},
   "source": [
    "#### First we need to reconsider how we selected our data"
   ]
  },
  {
   "cell_type": "code",
   "execution_count": 186,
   "metadata": {},
   "outputs": [
    {
     "name": "stdout",
     "output_type": "stream",
     "text": [
      "        text\n",
      "lang        \n",
      "deu   165708\n",
      "eng   249115\n",
      "fra    99712\n",
      "ita    77609\n",
      "por    61910\n",
      "spa    64407\n"
     ]
    },
    {
     "data": {
      "text/plain": [
       "(300000, 2)"
      ]
     },
     "execution_count": 186,
     "metadata": {},
     "output_type": "execute_result"
    }
   ],
   "source": [
    "data = pd.read_csv('sentences.csv',\n",
    "                    sep='\\t', \n",
    "                    encoding='utf8', \n",
    "                    index_col=0,\n",
    "                    names=['lang', 'text'])\n",
    "\n",
    "max_length = 180\n",
    "\n",
    "# filter by text length\n",
    "len_cond = [True if 50 <= len(s) <= max_length else False for s in data['text']]\n",
    "data = data[len_cond]\n",
    "\n",
    "# filter by text language\n",
    "lang = ['deu', 'eng', 'fra', 'ita', 'por', 'spa']\n",
    "data = data[data['lang'].isin(lang)]\n",
    "\n",
    "# select 50000 rows for each language\n",
    "data_trimmed = pd.DataFrame(columns=['lang', 'text'])\n",
    "\n",
    "print(data.groupby(['lang']).count())\n",
    "\n",
    "for l in lang:\n",
    "    lang_trim = data[data['lang'] == l].sample(50000, random_state=42)\n",
    "    data_trimmed = data_trimmed.append(lang_trim)\n",
    "\n",
    "data_trimmed.shape"
   ]
  },
  {
   "cell_type": "code",
   "execution_count": 187,
   "metadata": {},
   "outputs": [],
   "source": [
    "X = np.array(data_trimmed['text'])\n",
    "y = np.array(data_trimmed['lang'])\n",
    "\n",
    "X_train, X_test, y_train, y_test = model_selection.train_test_split(X, y, test_size=0.2, random_state=42)"
   ]
  },
  {
   "cell_type": "code",
   "execution_count": 188,
   "metadata": {},
   "outputs": [
    {
     "data": {
      "text/plain": [
       "'Eran las tantas de la madrugada y todavía no habían terminado la tarea.'"
      ]
     },
     "execution_count": 188,
     "metadata": {},
     "output_type": "execute_result"
    }
   ],
   "source": [
    "X_train[0]"
   ]
  },
  {
   "cell_type": "code",
   "execution_count": 189,
   "metadata": {},
   "outputs": [
    {
     "data": {
      "text/plain": [
       "[' is',\n",
       " ' mi',\n",
       " ' my',\n",
       " ' na',\n",
       " 'ael',\n",
       " 'ame',\n",
       " 'cha',\n",
       " 'e i',\n",
       " 'ell',\n",
       " 'hae',\n",
       " 'hel',\n",
       " 'ich',\n",
       " 'is ',\n",
       " 'llo',\n",
       " 'lo ',\n",
       " 'me ',\n",
       " 'mic',\n",
       " 'my ',\n",
       " 'nam',\n",
       " 'o m',\n",
       " 's m',\n",
       " 'y n']"
      ]
     },
     "execution_count": 189,
     "metadata": {},
     "output_type": "execute_result"
    }
   ],
   "source": [
    "get_ngrams(['hello my name is michael'], 3)"
   ]
  },
  {
   "cell_type": "code",
   "execution_count": 190,
   "metadata": {},
   "outputs": [],
   "source": [
    "features = {}\n",
    "features_set = set()\n",
    "training_corpus = pd.concat([pd.DataFrame(X_train), pd.DataFrame(y_train)], axis=1)\n",
    "training_corpus.columns = ['text', 'lang']\n",
    "\n",
    "for l in lang:\n",
    "    # get corpus filtered by language\n",
    "    corpus = training_corpus[training_corpus['lang']==l]['text']\n",
    "    \n",
    "    # get 300 most frequent trigrams\n",
    "    chars = get_ngrams(corpus, 1, 300)\n",
    "    \n",
    "    # add to dict and set\n",
    "    features[l] = chars \n",
    "    features_set.update(chars)\n",
    "\n",
    "    \n",
    "# create vocabulary list using feature set\n",
    "chars_vocab = dict()\n",
    "for i, f in enumerate(features_set):\n",
    "    chars_vocab[f] = i"
   ]
  },
  {
   "cell_type": "code",
   "execution_count": 191,
   "metadata": {},
   "outputs": [
    {
     "data": {
      "text/plain": [
       "['my ', 'nam', 'e i', 's m', 'ich', 'ael']"
      ]
     },
     "execution_count": 191,
     "metadata": {},
     "output_type": "execute_result"
    }
   ],
   "source": [
    "text = 'my name is michael'\n",
    "[text[i: i + 3] for i in range(0, len(text), 3)]"
   ]
  },
  {
   "cell_type": "code",
   "execution_count": 192,
   "metadata": {},
   "outputs": [
    {
     "data": {
      "text/plain": [
       "{'h': 0,\n",
       " '~': 1,\n",
       " '□': 2,\n",
       " 'o': 3,\n",
       " 'の': 4,\n",
       " 'p': 5,\n",
       " 'a': 6,\n",
       " 'ô': 7,\n",
       " '℃': 8,\n",
       " 'ż': 9,\n",
       " 'и': 10,\n",
       " '𝑚': 11,\n",
       " '$': 12,\n",
       " 'д': 13,\n",
       " 'ė': 14,\n",
       " '0': 15,\n",
       " 'b': 16,\n",
       " '⁴': 17,\n",
       " 'ê': 18,\n",
       " '⁰': 19,\n",
       " '\\t': 20,\n",
       " 'ă': 21,\n",
       " 'ŝ': 22,\n",
       " '/': 23,\n",
       " 'ō': 24,\n",
       " '𝑒': 25,\n",
       " 'у': 26,\n",
       " ']': 27,\n",
       " 'v': 28,\n",
       " 'z': 29,\n",
       " 'u': 30,\n",
       " '–': 31,\n",
       " 'ª': 32,\n",
       " '*': 33,\n",
       " 'n': 34,\n",
       " '𝑏': 35,\n",
       " 'â': 36,\n",
       " 'r': 37,\n",
       " 'ú': 38,\n",
       " 'ǎ': 39,\n",
       " 'ù': 40,\n",
       " 'ь': 41,\n",
       " 'i': 42,\n",
       " '？': 43,\n",
       " '½': 44,\n",
       " '̉': 45,\n",
       " '言': 46,\n",
       " 'ä': 47,\n",
       " 'ğ': 48,\n",
       " '_': 49,\n",
       " 'ò': 50,\n",
       " ' ': 51,\n",
       " 'ü': 52,\n",
       " 'τ': 53,\n",
       " '“': 54,\n",
       " '、': 55,\n",
       " '#': 56,\n",
       " 'о': 57,\n",
       " 'ā': 58,\n",
       " 'て': 59,\n",
       " '⁷': 60,\n",
       " '么': 61,\n",
       " 'í': 62,\n",
       " 'ĝ': 63,\n",
       " 'あ': 64,\n",
       " 'õ': 65,\n",
       " 'υ': 66,\n",
       " 'в': 67,\n",
       " 'c': 68,\n",
       " '”': 69,\n",
       " 'k': 70,\n",
       " 'ø': 71,\n",
       " 'ņ': 72,\n",
       " ':': 73,\n",
       " 'ḥ': 74,\n",
       " 'р': 75,\n",
       " '─': 76,\n",
       " 'ö': 77,\n",
       " 'ć': 78,\n",
       " '什': 79,\n",
       " '₪': 80,\n",
       " '&': 81,\n",
       " 'ồ': 82,\n",
       " '🌡': 83,\n",
       " '2': 84,\n",
       " '5': 85,\n",
       " 'ł': 86,\n",
       " 'º': 87,\n",
       " 'λ': 88,\n",
       " 'θ': 89,\n",
       " 'γ': 90,\n",
       " 'ʻ': 91,\n",
       " '甚': 92,\n",
       " '\\xa0': 93,\n",
       " 'f': 94,\n",
       " '\\u200e': 95,\n",
       " 'а': 96,\n",
       " 'α': 97,\n",
       " '4': 98,\n",
       " 'ñ': 99,\n",
       " 'ı': 100,\n",
       " '@': 101,\n",
       " '.': 102,\n",
       " 'л': 103,\n",
       " '₂': 104,\n",
       " 'œ': 105,\n",
       " 'ṭ': 106,\n",
       " 'ẓ': 107,\n",
       " 'к': 108,\n",
       " '«': 109,\n",
       " '€': 110,\n",
       " 'ž': 111,\n",
       " '°': 112,\n",
       " '\\u2009': 113,\n",
       " '„': 114,\n",
       " 'y': 115,\n",
       " '9': 116,\n",
       " 'ū': 117,\n",
       " '🦠': 118,\n",
       " 'ア': 119,\n",
       " 'ë': 120,\n",
       " '(': 121,\n",
       " '√': 122,\n",
       " '‟': 123,\n",
       " '»': 124,\n",
       " '<': 125,\n",
       " 'ω': 126,\n",
       " 'п': 127,\n",
       " 'ĵ': 128,\n",
       " '¿': 129,\n",
       " 'ï': 130,\n",
       " '⁻': 131,\n",
       " '𝜋': 132,\n",
       " 'l': 133,\n",
       " '³': 134,\n",
       " 'ǭ': 135,\n",
       " '\\n': 136,\n",
       " 'ἐ': 137,\n",
       " 'っ': 138,\n",
       " 'ĥ': 139,\n",
       " 't': 140,\n",
       " 'ɣ': 141,\n",
       " 'ε': 142,\n",
       " '8': 143,\n",
       " '₤': 144,\n",
       " 'ì': 145,\n",
       " '‿': 146,\n",
       " 'ș': 147,\n",
       " 'ē': 148,\n",
       " '―': 149,\n",
       " 's': 150,\n",
       " '[': 151,\n",
       " '—': 152,\n",
       " '🤧': 153,\n",
       " 'û': 154,\n",
       " '!': 155,\n",
       " 'ó': 156,\n",
       " '₫': 157,\n",
       " 'ɛ': 158,\n",
       " 'j': 159,\n",
       " '麼': 160,\n",
       " '¥': 161,\n",
       " 'リ': 162,\n",
       " \"'\": 163,\n",
       " 'å': 164,\n",
       " 'た': 165,\n",
       " 'š': 166,\n",
       " 'г': 167,\n",
       " ',': 168,\n",
       " 'ş': 169,\n",
       " 'æ': 170,\n",
       " 'я': 171,\n",
       " 'ŭ': 172,\n",
       " '-': 173,\n",
       " 'β': 174,\n",
       " 'н': 175,\n",
       " 'с': 176,\n",
       " 'ṛ': 177,\n",
       " '^': 178,\n",
       " '😷': 179,\n",
       " '\\\\': 180,\n",
       " '>': 181,\n",
       " '𝑟': 182,\n",
       " '明': 183,\n",
       " '`': 184,\n",
       " '¹': 185,\n",
       " 'е': 186,\n",
       " 'q': 187,\n",
       " '6': 188,\n",
       " 'ś': 189,\n",
       " '×': 190,\n",
       " '¨': 191,\n",
       " 'w': 192,\n",
       " '－': 193,\n",
       " '+': 194,\n",
       " 'ׁ': 195,\n",
       " 'ℂ': 196,\n",
       " '=': 197,\n",
       " '\\xad': 198,\n",
       " '\\u202f': 199,\n",
       " '’': 200,\n",
       " 'π': 201,\n",
       " '…': 202,\n",
       " 'á': 203,\n",
       " 'ç': 204,\n",
       " '🤒': 205,\n",
       " '%': 206,\n",
       " '¡': 207,\n",
       " 'ã': 208,\n",
       " 'ứ': 209,\n",
       " '−': 210,\n",
       " '7': 211,\n",
       " '·': 212,\n",
       " '🤮': 213,\n",
       " 'g': 214,\n",
       " '𝐾': 215,\n",
       " 'μ': 216,\n",
       " '→': 217,\n",
       " '1': 218,\n",
       " 'č': 219,\n",
       " '🧼': 220,\n",
       " 'ĉ': 221,\n",
       " '‚': 222,\n",
       " 'マ': 223,\n",
       " 'd': 224,\n",
       " ')': 225,\n",
       " '⁵': 226,\n",
       " '😂': 227,\n",
       " '3': 228,\n",
       " 'm': 229,\n",
       " 'ß': 230,\n",
       " '𝑎': 231,\n",
       " '?': 232,\n",
       " 'đ': 233,\n",
       " 'ţ': 234,\n",
       " 'é': 235,\n",
       " 'î': 236,\n",
       " '\\u200b': 237,\n",
       " '‘': 238,\n",
       " 'ī': 239,\n",
       " '´': 240,\n",
       " '‽': 241,\n",
       " '何': 242,\n",
       " 'à': 243,\n",
       " '⊂': 244,\n",
       " ';': 245,\n",
       " '²': 246,\n",
       " 'x': 247,\n",
       " 'è': 248,\n",
       " 'ḍ': 249,\n",
       " '£': 250,\n",
       " 'ш': 251,\n",
       " 'e': 252,\n",
       " 'ί': 253,\n",
       " '𝑥': 254,\n",
       " '\"': 255,\n",
       " 'ο': 256}"
      ]
     },
     "execution_count": 192,
     "metadata": {},
     "output_type": "execute_result"
    }
   ],
   "source": [
    "chars_vocab"
   ]
  },
  {
   "cell_type": "code",
   "execution_count": 193,
   "metadata": {},
   "outputs": [],
   "source": [
    "def text_to_sequences_of_ngrams(text: str, vocab: dict, n_gram_length: int = 3):\n",
    "    \"\"\"\n",
    "    Returns a list of numbers that represent the indice of the word in our vectorizer\n",
    "    Represents the a sequence of n-grams\n",
    "    ---------\n",
    "    Params\n",
    "    ---------\n",
    "        text: sentence to be converted\n",
    "        n_gram_length: size of n-gram to use\n",
    "        vectorizer: a CountVectorizer fit on the vocabulary of the corpus\n",
    "            (vocab assembled from top trigrams of each language)\n",
    "    \"\"\"\n",
    "    n_gram_sequence = [text[i: i + n_gram_length] for i in range(0, len(text), n_gram_length)]\n",
    "    encoded_output = []\n",
    "    for n_gram in n_gram_sequence:\n",
    "        if n_gram in vocab:\n",
    "            encoded_output.append(vocab[n_gram])\n",
    "        else:\n",
    "            encoded_output.append(-1)\n",
    "            \n",
    "    return encoded_output"
   ]
  },
  {
   "cell_type": "code",
   "execution_count": 194,
   "metadata": {},
   "outputs": [
    {
     "data": {
      "text/plain": [
       "array([  0,   0,   0,   0,   0,   0,   0,   0,   0,   0,   0,   0,   0,\n",
       "         0,   0,   0,   0,   0,   0,   0,   0,   0,   0,   0,   0,   0,\n",
       "         0,   0,   0,   0,   0,   0,   0,   0,   0,   0,   0,   0,   0,\n",
       "         0,   0,   0,   0,   0,   0,   0,   0,   0,   0,   0,   0,   0,\n",
       "         0,   0,   0,   0,   0,   0,   0,   0,   0,   0,   0,   0,   0,\n",
       "         0,   0,   0,   0,   0,   0,   0,   0,   0,   0,   0,   0,   0,\n",
       "         0,   0,   0,   0,   0,   0,   0,   0,   0,   0,   0,   0,   0,\n",
       "         0,   0,   0,   0,   0,   0,   0,   0,   0,   0,   0,   0,   0,\n",
       "         0,   0,   0,   0,   0,  -1,  37,   6,  34,  51, 133,   6, 150,\n",
       "        51, 140,   6,  34, 140,   6, 150,  51, 224, 252,  51, 133,   6,\n",
       "        51, 229,   6, 224,  37,  30, 214,   6, 224,   6,  51, 115,  51,\n",
       "       140,   3, 224,   6,  28,  62,   6,  51,  34,   3,  51,   0,   6,\n",
       "        16,  62,   6,  34,  51, 140, 252,  37, 229,  42,  34,   6, 224,\n",
       "         3,  51, 133,   6,  51, 140,   6,  37, 252,   6, 102], dtype=int32)"
      ]
     },
     "execution_count": 194,
     "metadata": {},
     "output_type": "execute_result"
    }
   ],
   "source": [
    "# this approach is ok but we want to use n-grams instead to handle short text classification\n",
    "# see: https://stackoverflow.com/questions/46173502/using-keras-tokenizer-to-generate-n-grams\n",
    "'''\n",
    "from tensorflow.keras.preprocessing.text import Tokenizer\n",
    "from tensorflow.keras.preprocessing.sequence import pad_sequences\n",
    "\n",
    "# tokenize the sentences\n",
    "tokenizer = Tokenizer()\n",
    "\n",
    "# preparing vocabulary\n",
    "tokenizer.fit_on_texts(list(X_train))\n",
    "\n",
    "# converting text into integer sequences\n",
    "x_train_seq  = tokenizer.texts_to_sequences(X_train)\n",
    "x_test_seq = tokenizer.texts_to_sequences(X_test)\n",
    "\n",
    "# padding to prepare sequences of same length\n",
    "x_train_seq  = pad_sequences(x_train_seq, maxlen=200, padding='post')\n",
    "print(x_train_seq.shape)\n",
    "x_test_seq = pad_sequences(x_test_seq, maxlen=200, padding='post')\n",
    "print(x_test_seq.shape)\n",
    "\n",
    "x_train_seq[0]\n",
    "'''\n",
    "from tensorflow.keras.preprocessing.sequence import pad_sequences\n",
    "\n",
    "n_gram = 1\n",
    "maxlen = max_length // n_gram\n",
    "\n",
    "x_train_seq = []\n",
    "for sentence in X_train:\n",
    "    x_train_seq.append(text_to_sequences_of_ngrams(sentence, chars_vocab, n_gram))\n",
    "x_train_seq = pad_sequences(x_train_seq, maxlen=maxlen)\n",
    "    \n",
    "x_test_seq = []\n",
    "for sentence in X_test:\n",
    "    x_test_seq.append(text_to_sequences_of_ngrams(sentence, chars_vocab, n_gram))\n",
    "x_test_seq = pad_sequences(x_test_seq, maxlen=maxlen)\n",
    "\n",
    "x_train_seq[0]"
   ]
  },
  {
   "cell_type": "markdown",
   "metadata": {},
   "source": [
    "### Update on input shape\n",
    "Rather than our original `(240000, 666)` shape, we now have `(240000, maxlen)` shape. This is because we now have `maxlen` features to represent a sentence, where each feature is what trigram/bigram/char was used. We will be feeding each of these features in sequence to our LSTM layer. "
   ]
  },
  {
   "cell_type": "code",
   "execution_count": 195,
   "metadata": {},
   "outputs": [
    {
     "name": "stdout",
     "output_type": "stream",
     "text": [
      "(3, 2)\n",
      "(3, 2, 1)\n"
     ]
    },
    {
     "data": {
      "text/plain": [
       "array([[[11],\n",
       "        [22]],\n",
       "\n",
       "       [[33],\n",
       "        [44]],\n",
       "\n",
       "       [[55],\n",
       "        [66]]])"
      ]
     },
     "execution_count": 195,
     "metadata": {},
     "output_type": "execute_result"
    }
   ],
   "source": [
    "data = [[11, 22],\n",
    "    [33, 44],\n",
    "    [55, 66]]\n",
    "data = np.array(data)\n",
    "print(data.shape)\n",
    "data = data.reshape((data.shape[0], data.shape[1], 1))\n",
    "print(data.shape)\n",
    "data"
   ]
  },
  {
   "cell_type": "code",
   "execution_count": 196,
   "metadata": {},
   "outputs": [
    {
     "data": {
      "text/plain": [
       "(240000, 180, 1)"
      ]
     },
     "execution_count": 196,
     "metadata": {},
     "output_type": "execute_result"
    }
   ],
   "source": [
    "x_train_seq = x_train_seq.reshape((x_train_seq.shape[0], x_train_seq.shape[1], 1)).astype(float)\n",
    "x_train_seq.shape"
   ]
  },
  {
   "cell_type": "code",
   "execution_count": 197,
   "metadata": {},
   "outputs": [
    {
     "data": {
      "text/plain": [
       "(60000, 180, 1)"
      ]
     },
     "execution_count": 197,
     "metadata": {},
     "output_type": "execute_result"
    }
   ],
   "source": [
    "x_test_seq = x_test_seq.reshape((x_test_seq.shape[0], x_test_seq.shape[1], 1)).astype(float)\n",
    "x_test_seq.shape"
   ]
  },
  {
   "cell_type": "code",
   "execution_count": 198,
   "metadata": {},
   "outputs": [
    {
     "data": {
      "text/plain": [
       "257"
      ]
     },
     "execution_count": 198,
     "metadata": {},
     "output_type": "execute_result"
    }
   ],
   "source": [
    "# not taking this approach\n",
    "# print(tokenizer.word_index)\n",
    "# size_of_vocabulary = len(tokenizer.word_index)\n",
    "# size_of_vocabulary\n",
    "\n",
    "# instead\n",
    "size_of_vocab = len(chars_vocab)\n",
    "size_of_vocab"
   ]
  },
  {
   "cell_type": "code",
   "execution_count": 199,
   "metadata": {},
   "outputs": [
    {
     "data": {
      "text/plain": [
       "(240000, 666)"
      ]
     },
     "execution_count": 199,
     "metadata": {},
     "output_type": "execute_result"
    }
   ],
   "source": [
    "# this is 2D which won't work\n",
    "# we need 3D tensor fed into an LSTM\n",
    "# (num samples x num timesteps x representation of trigram/word)\n",
    "x.shape"
   ]
  },
  {
   "cell_type": "code",
   "execution_count": 200,
   "metadata": {},
   "outputs": [
    {
     "data": {
      "text/plain": [
       "(180, 1)"
      ]
     },
     "execution_count": 200,
     "metadata": {},
     "output_type": "execute_result"
    }
   ],
   "source": [
    "x_train_seq.shape[1], x_train_seq.shape[2]"
   ]
  },
  {
   "cell_type": "code",
   "execution_count": 201,
   "metadata": {},
   "outputs": [
    {
     "name": "stdout",
     "output_type": "stream",
     "text": [
      "Model: \"sequential_24\"\n",
      "_________________________________________________________________\n",
      "Layer (type)                 Output Shape              Param #   \n",
      "=================================================================\n",
      "bidirectional_7 (Bidirection (None, 180, 512)          528384    \n",
      "_________________________________________________________________\n",
      "global_max_pooling1d_20 (Glo (None, 512)               0         \n",
      "_________________________________________________________________\n",
      "dense_64 (Dense)             (None, 128)               65664     \n",
      "_________________________________________________________________\n",
      "dropout_5 (Dropout)          (None, 128)               0         \n",
      "_________________________________________________________________\n",
      "dense_65 (Dense)             (None, 16)                2064      \n",
      "_________________________________________________________________\n",
      "dense_66 (Dense)             (None, 6)                 102       \n",
      "=================================================================\n",
      "Total params: 596,214\n",
      "Trainable params: 596,214\n",
      "Non-trainable params: 0\n",
      "_________________________________________________________________\n"
     ]
    }
   ],
   "source": [
    "lstm_model = Sequential()\n",
    "\n",
    "# lstm layer - https://keras.io/api/layers/recurrent_layers/lstm/\n",
    "lstm_model.add(\n",
    "    Bidirectional(\n",
    "        LSTM(256, return_sequences=True, dropout=0.3),\n",
    "        input_shape=(x_train_seq.shape[1], x_train_seq.shape[2])\n",
    "    )\n",
    ")\n",
    "\n",
    "lstm_model.add(GlobalMaxPooling1D())\n",
    "\n",
    "lstm_model.add(Dense(128, activation='relu'))\n",
    "lstm_model.add(Dropout(0.3))\n",
    "lstm_model.add(Dense(16, activation='relu'))\n",
    "lstm_model.add(Dense(6, activation='softmax'))\n",
    "lstm_model.compile(loss='categorical_crossentropy', optimizer='adam', metrics=['acc'])\n",
    "\n",
    "mc = ModelCheckpoint('best_lstm_model.h5', monitor='acc', mode='max', save_best_only=True, verbose=1)\n",
    "es = EarlyStopping(monitor='loss', mode='min', verbose=1, patience=3)\n",
    "\n",
    "log_dir = \"logs/fit/\" + datetime.datetime.now().strftime(\"%Y%m%d-%H%M%S\")\n",
    "tensorboard_callback = TensorBoard(log_dir=log_dir, histogram_freq=1)\n",
    "\n",
    "lstm_model.summary()"
   ]
  },
  {
   "cell_type": "code",
   "execution_count": 202,
   "metadata": {},
   "outputs": [
    {
     "name": "stdout",
     "output_type": "stream",
     "text": [
      "Epoch 1/12\n",
      "2400/2400 [==============================] - ETA: 0s - loss: 0.8113 - acc: 0.6671\n",
      "Epoch 00001: acc improved from -inf to 0.66705, saving model to best_lstm_model.h5\n",
      "2400/2400 [==============================] - 1577s 657ms/step - loss: 0.8113 - acc: 0.6671\n",
      "Epoch 2/12\n",
      "2400/2400 [==============================] - ETA: 0s - loss: 0.2832 - acc: 0.8973\n",
      "Epoch 00002: acc improved from 0.66705 to 0.89735, saving model to best_lstm_model.h5\n",
      "2400/2400 [==============================] - 1578s 657ms/step - loss: 0.2832 - acc: 0.8973\n",
      "Epoch 3/12\n",
      "2400/2400 [==============================] - ETA: 0s - loss: 0.1759 - acc: 0.9388\n",
      "Epoch 00003: acc improved from 0.89735 to 0.93883, saving model to best_lstm_model.h5\n",
      "2400/2400 [==============================] - 1656s 690ms/step - loss: 0.1759 - acc: 0.9388\n",
      "Epoch 4/12\n",
      "2400/2400 [==============================] - ETA: 0s - loss: 0.1323 - acc: 0.9547\n",
      "Epoch 00004: acc improved from 0.93883 to 0.95467, saving model to best_lstm_model.h5\n",
      "2400/2400 [==============================] - 1579s 658ms/step - loss: 0.1323 - acc: 0.9547\n",
      "Epoch 5/12\n",
      "2400/2400 [==============================] - ETA: 0s - loss: 0.1125 - acc: 0.9615\n",
      "Epoch 00005: acc improved from 0.95467 to 0.96154, saving model to best_lstm_model.h5\n",
      "2400/2400 [==============================] - 1550s 646ms/step - loss: 0.1125 - acc: 0.9615\n",
      "Epoch 6/12\n",
      "2400/2400 [==============================] - ETA: 0s - loss: 0.0986 - acc: 0.9661\n",
      "Epoch 00006: acc improved from 0.96154 to 0.96605, saving model to best_lstm_model.h5\n",
      "2400/2400 [==============================] - 1539s 641ms/step - loss: 0.0986 - acc: 0.9661\n",
      "Epoch 7/12\n",
      "2400/2400 [==============================] - ETA: 0s - loss: 0.0881 - acc: 0.9702\n",
      "Epoch 00007: acc improved from 0.96605 to 0.97021, saving model to best_lstm_model.h5\n",
      "2400/2400 [==============================] - 1549s 645ms/step - loss: 0.0881 - acc: 0.9702\n",
      "Epoch 8/12\n",
      "2400/2400 [==============================] - ETA: 0s - loss: 0.0816 - acc: 0.9721\n",
      "Epoch 00008: acc improved from 0.97021 to 0.97206, saving model to best_lstm_model.h5\n",
      "2400/2400 [==============================] - 1621s 675ms/step - loss: 0.0816 - acc: 0.9721\n",
      "Epoch 9/12\n",
      "2400/2400 [==============================] - ETA: 0s - loss: 0.0748 - acc: 0.9751\n",
      "Epoch 00009: acc improved from 0.97206 to 0.97512, saving model to best_lstm_model.h5\n",
      "2400/2400 [==============================] - 1617s 674ms/step - loss: 0.0748 - acc: 0.9751\n",
      "Epoch 10/12\n",
      "2400/2400 [==============================] - ETA: 0s - loss: 0.0701 - acc: 0.9759\n",
      "Epoch 00010: acc improved from 0.97512 to 0.97593, saving model to best_lstm_model.h5\n",
      "2400/2400 [==============================] - 1620s 675ms/step - loss: 0.0701 - acc: 0.9759\n",
      "Epoch 11/12\n",
      "2400/2400 [==============================] - ETA: 0s - loss: 0.0647 - acc: 0.9781\n",
      "Epoch 00011: acc improved from 0.97593 to 0.97814, saving model to best_lstm_model.h5\n",
      "2400/2400 [==============================] - 1610s 671ms/step - loss: 0.0647 - acc: 0.9781\n",
      "Epoch 12/12\n",
      "2400/2400 [==============================] - ETA: 0s - loss: 0.0624 - acc: 0.9786\n",
      "Epoch 00012: acc improved from 0.97814 to 0.97865, saving model to best_lstm_model.h5\n",
      "2400/2400 [==============================] - 1575s 656ms/step - loss: 0.0624 - acc: 0.9786\n"
     ]
    },
    {
     "data": {
      "text/plain": [
       "<tensorflow.python.keras.callbacks.History at 0x164262280>"
      ]
     },
     "execution_count": 202,
     "metadata": {},
     "output_type": "execute_result"
    }
   ],
   "source": [
    "# Train model\n",
    "lstm_model.fit(x_train_seq, encode(y_train), epochs=12, batch_size=100, callbacks=[mc, es, tensorboard_callback])"
   ]
  },
  {
   "cell_type": "code",
   "execution_count": 203,
   "metadata": {},
   "outputs": [
    {
     "name": "stdout",
     "output_type": "stream",
     "text": [
      "600/600 [==============================] - 137s 228ms/step - loss: 1.9123 - acc: 0.5071\n"
     ]
    },
    {
     "data": {
      "text/plain": [
       "0.5070833563804626"
      ]
     },
     "execution_count": 203,
     "metadata": {},
     "output_type": "execute_result"
    }
   ],
   "source": [
    "lstm_model = load_model('best_lstm_model.h5')\n",
    "\n",
    "# evaluation\n",
    "_, val_acc = lstm_model.evaluate(x_test_seq, encode(y_test), batch_size=100)\n",
    "val_acc"
   ]
  },
  {
   "cell_type": "markdown",
   "metadata": {},
   "source": [
    "It seems like our LSTM model was overfit and still full of bias."
   ]
  },
  {
   "cell_type": "code",
   "execution_count": 204,
   "metadata": {},
   "outputs": [
    {
     "name": "stdout",
     "output_type": "stream",
     "text": [
      "0.5070833333333333\n"
     ]
    },
    {
     "data": {
      "text/plain": [
       "Text(61.5, 0.5, 'Actual')"
      ]
     },
     "execution_count": 204,
     "metadata": {},
     "output_type": "execute_result"
    },
    {
     "data": {
      "image/png": "[encoded data removed]",
      "text/plain": [
       "<Figure size 720x720 with 1 Axes>"
      ]
     },
     "metadata": {},
     "output_type": "display_data"
    }
   ],
   "source": [
    "# Get predictions on test set\n",
    "labels = np.argmax(lstm_model.predict(x_test_seq), axis=-1)\n",
    "predictions = encoder.inverse_transform(labels)\n",
    "\n",
    "accuracy = accuracy_score(y_test, predictions)\n",
    "print(accuracy)\n",
    "\n",
    "conf_matrix = confusion_matrix(y_test, predictions)\n",
    "conf_matrix_df = pd.DataFrame(conf_matrix, columns=lang, index=lang)\n",
    "\n",
    "# Plot confusion matrix heatmap\n",
    "plt.figure(figsize=(10, 10), facecolor='w', edgecolor='k')\n",
    "sns.set(font_scale=1.5)\n",
    "sns.heatmap(conf_matrix_df, cmap='coolwarm', annot=True, fmt='.5g', cbar=False)\n",
    "plt.xlabel('Predicted', fontsize=22)\n",
    "plt.ylabel('Actual', fontsize=22)"
   ]
  },
  {
   "cell_type": "code",
   "execution_count": 205,
   "metadata": {},
   "outputs": [
    {
     "data": {
      "text/plain": [
       "Reusing TensorBoard on port 6006 (pid 5609), started 2 days, 18:50:55 ago. (Use '!kill 5609' to kill it.)"
      ]
     },
     "metadata": {},
     "output_type": "display_data"
    },
    {
     "data": {
      "text/html": [
       "\n",
       "      <iframe id=\"tensorboard-frame-1e6ae7cff920dcd8\" width=\"100%\" height=\"800\" frameborder=\"0\">\n",
       "      </iframe>\n",
       "      <script>\n",
       "        (function() {\n",
       "          const frame = document.getElementById(\"tensorboard-frame-1e6ae7cff920dcd8\");\n",
       "          const url = new URL(\"/\", window.location);\n",
       "          const port = 6006;\n",
       "          if (port) {\n",
       "            url.port = port;\n",
       "          }\n",
       "          frame.src = url;\n",
       "        })();\n",
       "      </script>\n",
       "    "
      ],
      "text/plain": [
       "<IPython.core.display.HTML object>"
      ]
     },
     "metadata": {},
     "output_type": "display_data"
    }
   ],
   "source": [
    "%tensorboard --logdir logs/fit"
   ]
  },
  {
   "cell_type": "code",
   "execution_count": null,
   "metadata": {},
   "outputs": [],
   "source": []
  }
 ],
 "metadata": {
  "kernelspec": {
   "display_name": "Python 3",
   "language": "python",
   "name": "python3"
  },
  "language_info": {
   "codemirror_mode": {
    "name": "ipython",
    "version": 3
   },
   "file_extension": ".py",
   "mimetype": "text/x-python",
   "name": "python",
   "nbconvert_exporter": "python",
   "pygments_lexer": "ipython3",
   "version": "3.8.2"
  }
 },
 "nbformat": 4,
 "nbformat_minor": 4
}
